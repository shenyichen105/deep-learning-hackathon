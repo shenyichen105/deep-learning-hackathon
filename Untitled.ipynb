{
 "cells": [
  {
   "cell_type": "code",
   "execution_count": 31,
   "metadata": {},
   "outputs": [],
   "source": [
    "import numpy as np\n",
    "from sklearn.utils import shuffle\n",
    "import matplotlib.pyplot as plt\n",
    "from keras.preprocessing import image\n",
    "%matplotlib inline"
   ]
  },
  {
   "cell_type": "code",
   "execution_count": 48,
   "metadata": {},
   "outputs": [
    {
     "name": "stdout",
     "output_type": "stream",
     "text": [
      "Found 1500 images belonging to 1 classes.\n"
     ]
    }
   ],
   "source": [
    "#normalize the scale of color to 0-1 range\n",
    "train_datagen = image.ImageDataGenerator(rescale=1./255)\n",
    "train_generator = train_datagen.flow_from_directory(\n",
    "        'data',\n",
    "        class_mode = None,\n",
    "        target_size=(32, 256),\n",
    "        batch_size = 500,\n",
    "        shuffle = False)"
   ]
  },
  {
   "cell_type": "code",
   "execution_count": 49,
   "metadata": {},
   "outputs": [],
   "source": [
    "count = 0\n",
    "all_img = np.empty((0,32,256,3))\n",
    "for X_batch in train_generator:\n",
    "    all_img = np.concatenate([all_img,X_batch])\n",
    "    count += 1\n",
    "    if count >= 3:\n",
    "        break"
   ]
  },
  {
   "cell_type": "code",
   "execution_count": 50,
   "metadata": {},
   "outputs": [
    {
     "data": {
      "text/plain": [
       "(32, 256, 3)"
      ]
     },
     "execution_count": 50,
     "metadata": {},
     "output_type": "execute_result"
    }
   ],
   "source": [
    "#all_img[0].shape\n",
    "all_img[0].shape"
   ]
  },
  {
   "cell_type": "code",
   "execution_count": 51,
   "metadata": {
    "collapsed": true
   },
   "outputs": [],
   "source": [
    "def plot_imgs(img):\n",
    "    plt.imshow(img.reshape(32, 256, 3))\n",
    "    plt.axis('off')\n",
    "    plt.show()"
   ]
  },
  {
   "cell_type": "code",
   "execution_count": 64,
   "metadata": {},
   "outputs": [],
   "source": [
    "idx = 0\n",
    "train = []\n",
    "target = []\n",
    "for img in all_img:\n",
    "    if idx % 3 != 2:\n",
    "        train.append(img)\n",
    "    else:\n",
    "        target.append(img)\n",
    "        target.append(img)  \n",
    "    idx +=1"
   ]
  },
  {
   "cell_type": "code",
   "execution_count": 65,
   "metadata": {},
   "outputs": [],
   "source": [
    "#split training \n",
    "train = np.array(train)\n",
    "target = np.array(target)"
   ]
  },
  {
   "cell_type": "code",
   "execution_count": 78,
   "metadata": {
    "collapsed": true
   },
   "outputs": [],
   "source": [
    "from keras import losses\n",
    "from keras.layers import Input, Dense, Conv2D, MaxPooling2D, UpSampling2D\n",
    "from keras.models import Model\n",
    "from keras import backend as K\n",
    "from keras.losses import mean_squared_error\n",
    "from keras.callbacks import TensorBoard,History"
   ]
  },
  {
   "cell_type": "code",
   "execution_count": 98,
   "metadata": {
    "collapsed": true
   },
   "outputs": [],
   "source": [
    "input_img = Input(shape=(32, 256, 3))\n",
    "\n",
    "x = Conv2D(16, (3, 3), activation='relu', padding='same')(input_img)\n",
    "x = MaxPooling2D((1, 2), padding='same')(x)\n",
    "x = Conv2D(16, (3, 3), activation='relu', padding='same')(x)\n",
    "x = MaxPooling2D((2, 2), padding='same')(x)\n",
    "x = Conv2D(8, (3, 3), activation='relu', padding='same')(x)\n",
    "x = MaxPooling2D((1, 2), padding='same')(x)\n",
    "\n",
    "encoded = Conv2D(4, (3, 3), activation='relu', padding='same')(x)\n",
    "\n",
    "x = UpSampling2D((1, 2))(encoded)\n",
    "x = Conv2D(8, (3, 3), activation='relu', padding='same')(x)\n",
    "x = UpSampling2D((2, 2))(x)\n",
    "x = Conv2D(16, (3, 3), activation='relu', padding='same')(x)\n",
    "x = UpSampling2D((1, 2))(x)\n",
    "x = Conv2D(16, (3, 3), activation='relu', padding='same')(x)\n",
    "\n",
    "decoded  = Conv2D(3, (3, 3), activation='sigmoid',padding='same')(x)"
   ]
  },
  {
   "cell_type": "code",
   "execution_count": 99,
   "metadata": {},
   "outputs": [],
   "source": [
    "autoencoder = Model(input_img, decoded)\n",
    "autoencoder.compile(optimizer='adam',loss='binary_crossentropy',metrics=['mse'])"
   ]
  },
  {
   "cell_type": "code",
   "execution_count": 108,
   "metadata": {},
   "outputs": [],
   "source": [
    "np.random.seed(6)\n",
    "shuffled_index = np.arange(1000)\n",
    "np.random.shuffle(shuffled_index)\n",
    "train_index = shuffled_index[:800]\n",
    "test_index = shuffled_index[800:]\n",
    "\n",
    "X_train = train[train_index]\n",
    "X_test = train[test_index]\n",
    "\n",
    "Y_train = target[train_index]\n",
    "Y_test = target[test_index]"
   ]
  },
  {
   "cell_type": "code",
   "execution_count": null,
   "metadata": {},
   "outputs": [
    {
     "name": "stdout",
     "output_type": "stream",
     "text": [
      "Train on 800 samples, validate on 200 samples\n",
      "Epoch 1/10\n",
      "800/800 [==============================] - 28s - loss: 0.6913 - mean_squared_error: 0.0746 - val_loss: 0.6863 - val_mean_squared_error: 0.0721\n",
      "Epoch 2/10\n",
      "800/800 [==============================] - 27s - loss: 0.6604 - mean_squared_error: 0.0598 - val_loss: 0.6405 - val_mean_squared_error: 0.0484\n",
      "Epoch 3/10\n",
      "800/800 [==============================] - 27s - loss: 0.6280 - mean_squared_error: 0.0442 - val_loss: 0.6274 - val_mean_squared_error: 0.0445\n",
      "Epoch 4/10\n",
      "800/800 [==============================] - 28s - loss: 0.6196 - mean_squared_error: 0.0411 - val_loss: 0.6226 - val_mean_squared_error: 0.0423\n",
      "Epoch 5/10\n",
      "800/800 [==============================] - 28s - loss: 0.6156 - mean_squared_error: 0.0394 - val_loss: 0.6183 - val_mean_squared_error: 0.0405\n",
      "Epoch 6/10\n",
      "800/800 [==============================] - 27s - loss: 0.6117 - mean_squared_error: 0.0376 - val_loss: 0.6137 - val_mean_squared_error: 0.0386\n",
      "Epoch 7/10\n",
      "800/800 [==============================] - 27s - loss: 0.6049 - mean_squared_error: 0.0347 - val_loss: 0.6036 - val_mean_squared_error: 0.0340\n",
      "Epoch 8/10\n",
      "800/800 [==============================] - 27s - loss: 0.5945 - mean_squared_error: 0.0299 - val_loss: 0.5969 - val_mean_squared_error: 0.0307\n",
      "Epoch 9/10\n",
      "128/800 [===>..........................] - ETA: 21s - loss: 0.5936 - mean_squared_error: 0.0275"
     ]
    }
   ],
   "source": [
    "autoencoder.fit(X_train,Y_train, epochs=10,batch_size = 64,shuffle=True,\n",
    "                validation_data=(X_test, Y_test))"
   ]
  },
  {
   "cell_type": "code",
   "execution_count": null,
   "metadata": {
    "collapsed": true
   },
   "outputs": [],
   "source": []
  }
 ],
 "metadata": {
  "anaconda-cloud": {},
  "kernelspec": {
   "display_name": "Python 2",
   "language": "python",
   "name": "python2"
  },
  "language_info": {
   "codemirror_mode": {
    "name": "ipython",
    "version": 2
   },
   "file_extension": ".py",
   "mimetype": "text/x-python",
   "name": "python",
   "nbconvert_exporter": "python",
   "pygments_lexer": "ipython2",
   "version": "2.7.12"
  }
 },
 "nbformat": 4,
 "nbformat_minor": 1
}
