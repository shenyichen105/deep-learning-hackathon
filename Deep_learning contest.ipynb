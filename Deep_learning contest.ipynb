{
 "cells": [
  {
   "cell_type": "code",
   "execution_count": 160,
   "metadata": {},
   "outputs": [],
   "source": [
    "import numpy as np\n",
    "from sklearn.utils import shuffle\n",
    "import matplotlib.pyplot as plt\n",
    "from keras.preprocessing import image\n",
    "%matplotlib inline"
   ]
  },
  {
   "cell_type": "code",
   "execution_count": 161,
   "metadata": {},
   "outputs": [
    {
     "name": "stdout",
     "output_type": "stream",
     "text": [
      "Found 1500 images belonging to 1 classes.\n"
     ]
    }
   ],
   "source": [
    "#normalize the scale of color to 0-1 range\n",
    "train_datagen = image.ImageDataGenerator(featurewise_center = True, rescale=1./255)\n",
    "train_generator = train_datagen.flow_from_directory(\n",
    "        'data',\n",
    "        class_mode = None,\n",
    "        target_size=(64, 512),\n",
    "        batch_size = 500,\n",
    "        shuffle = False)"
   ]
  },
  {
   "cell_type": "code",
   "execution_count": 162,
   "metadata": {},
   "outputs": [],
   "source": [
    "count = 0\n",
    "all_img = np.empty((0,64,512,3))\n",
    "for X_batch in train_generator:\n",
    "    all_img = np.concatenate([all_img,X_batch])\n",
    "    count += 1\n",
    "    if count >= 3:\n",
    "        break"
   ]
  },
  {
   "cell_type": "code",
   "execution_count": 163,
   "metadata": {},
   "outputs": [
    {
     "data": {
      "text/plain": [
       "(64, 512, 3)"
      ]
     },
     "execution_count": 163,
     "metadata": {},
     "output_type": "execute_result"
    }
   ],
   "source": [
    "#all_img[0].shape\n",
    "print all_img[0].shape"
   ]
  },
  {
   "cell_type": "code",
   "execution_count": 193,
   "metadata": {
    "collapsed": true
   },
   "outputs": [],
   "source": [
    "def plot_imgs(img):\n",
    "    plt.imshow(img.reshape(64, 512, 3))\n",
    "    plt.axis('off')\n",
    "    plt.show()"
   ]
  },
  {
   "cell_type": "code",
   "execution_count": 200,
   "metadata": {},
   "outputs": [],
   "source": [
    "idx = 0\n",
    "train_1 = []\n",
    "train_2 =[]\n",
    "target = []\n",
    "\n",
    "for img in all_img:\n",
    "    if idx % 3 == 0:\n",
    "        train_1.append(img)\n",
    "    elif idx % 3 == 1:\n",
    "        train_2.append(img)\n",
    "    else:\n",
    "        target.append(img) \n",
    "    idx +=1"
   ]
  },
  {
   "cell_type": "code",
   "execution_count": 201,
   "metadata": {},
   "outputs": [],
   "source": [
    "train_1 = np.array(train_1)\n",
    "train_2 = np.array(train_2)\n",
    "target = np.array(target)"
   ]
  },
  {
   "cell_type": "code",
   "execution_count": 198,
   "metadata": {
    "collapsed": true
   },
   "outputs": [],
   "source": [
    "from keras import losses\n",
    "from keras.layers import Input, Dense, Conv2D, MaxPooling2D, UpSampling2D\n",
    "from keras.models import Model\n",
    "from keras import backend as K\n",
    "from keras.losses import mean_squared_error\n",
    "from keras.callbacks import TensorBoard,History"
   ]
  },
  {
   "cell_type": "code",
   "execution_count": 199,
   "metadata": {
    "collapsed": true
   },
   "outputs": [],
   "source": [
    "def combined_loss(y_true, y_pred):\n",
    "    return losses.mean_squared_error(y_true, y_pred)+ losses.binary_crossentropy(y_true, y_pred)"
   ]
  },
  {
   "cell_type": "code",
   "execution_count": 218,
   "metadata": {
    "collapsed": true
   },
   "outputs": [],
   "source": [
    "input_img = Input(shape=(64, 512, 3))\n",
    "\n",
    "x = Conv2D(8, (3, 3), activation='relu', padding='same')(input_img)\n",
    "x = MaxPooling2D((1, 2), padding='same')(x)\n",
    "x = Conv2D(8, (3, 3), activation='relu', padding='same')(x)\n",
    "x = MaxPooling2D((2, 2), padding='same')(x)\n",
    "x = Conv2D(16, (3, 3), activation='relu', padding='same')(x)\n",
    "x = MaxPooling2D((1, 2), padding='same')(x)\n",
    "\n",
    "encoded = Conv2D(32, (3, 3), activation='relu', padding='same')(x)\n",
    "\n",
    "x = UpSampling2D((1, 2))(encoded)\n",
    "x = Conv2D(16, (3, 3), activation='relu', padding='same')(x)\n",
    "x = UpSampling2D((2, 2))(x)\n",
    "x = Conv2D(8, (3, 3), activation='relu', padding='same')(x)\n",
    "x = UpSampling2D((1, 2))(x)\n",
    "x = Conv2D(8, (3, 3), activation='relu', padding='same')(x)\n",
    "\n",
    "decoded  = Conv2D(3, (3, 3), activation='sigmoid',padding='same')(x)"
   ]
  },
  {
   "cell_type": "code",
   "execution_count": 219,
   "metadata": {},
   "outputs": [],
   "source": [
    "autoencoder = Model(input_img, decoded)\n",
    "autoencoder.compile(optimizer='adam',loss=combined_loss,metrics=['mse'])"
   ]
  },
  {
   "cell_type": "code",
   "execution_count": null,
   "metadata": {},
   "outputs": [],
   "source": [
    "np.random.seed(6)\n",
    "shuffled_index = np.arange(500)\n",
    "np.random.shuffle(shuffled_index)\n",
    "train_index = shuffled_index[:400]\n",
    "test_index = shuffled_index[400:]\n",
    "\n",
    "X_train_1 = train_1[train_index]\n",
    "X_test_1 = train_1[test_index]\n",
    "\n",
    "X_train_2 = train_2[train_index]\n",
    "X_test_2 = train_2[test_index]\n",
    "\n",
    "Y_train = target[train_index]\n",
    "Y_test = target[test_index]"
   ]
  },
  {
   "cell_type": "code",
   "execution_count": null,
   "metadata": {},
   "outputs": [
    {
     "name": "stdout",
     "output_type": "stream",
     "text": [
      "Train on 400 samples, validate on 100 samples\n",
      "Epoch 1/100\n",
      "400/400 [==============================] - 45s - loss: 0.7646 - mean_squared_error: 0.0734 - val_loss: 0.7572 - val_mean_squared_error: 0.0745\n",
      "Epoch 2/100\n",
      "400/400 [==============================] - 44s - loss: 0.7322 - mean_squared_error: 0.0627 - val_loss: 0.7023 - val_mean_squared_error: 0.0568\n",
      "Epoch 3/100\n",
      "400/400 [==============================] - 47s - loss: 0.6800 - mean_squared_error: 0.0466 - val_loss: 0.6667 - val_mean_squared_error: 0.0458\n",
      "Epoch 4/100\n",
      "400/400 [==============================] - 48s - loss: 0.6555 - mean_squared_error: 0.0389 - val_loss: 0.6612 - val_mean_squared_error: 0.0445\n",
      "Epoch 5/100\n",
      "400/400 [==============================] - 45s - loss: 0.6487 - mean_squared_error: 0.0371 - val_loss: 0.6566 - val_mean_squared_error: 0.0430\n",
      "Epoch 6/100\n",
      "384/400 [===========================>..] - ETA: 1s - loss: 0.6456 - mean_squared_error: 0.0363"
     ]
    }
   ],
   "source": [
    "autoencoder.fit(X_train_1,Y_train, epochs=100,batch_size = 64,shuffle=True,\n",
    "                validation_data=(X_test_1, Y_test))"
   ]
  },
  {
   "cell_type": "code",
   "execution_count": 205,
   "metadata": {
    "collapsed": true
   },
   "outputs": [],
   "source": [
    "Y_pred = autoencoder.predict(X_test_1[:100])"
   ]
  },
  {
   "cell_type": "code",
   "execution_count": 217,
   "metadata": {},
   "outputs": [
    {
     "data": {
      "image/png": "[encoded data removed]",
      "text/plain": [
       "<matplotlib.figure.Figure at 0x158929d50>"
      ]
     },
     "metadata": {},
     "output_type": "display_data"
    }
   ],
   "source": [
    "plot_imgs(Y_pred[5])"
   ]
  },
  {
   "cell_type": "code",
   "execution_count": null,
   "metadata": {
    "collapsed": true
   },
   "outputs": [],
   "source": []
  }
 ],
 "metadata": {
  "anaconda-cloud": {},
  "kernelspec": {
   "display_name": "Python 2",
   "language": "python",
   "name": "python2"
  },
  "language_info": {
   "codemirror_mode": {
    "name": "ipython",
    "version": 2
   },
   "file_extension": ".py",
   "mimetype": "text/x-python",
   "name": "python",
   "nbconvert_exporter": "python",
   "pygments_lexer": "ipython2",
   "version": "2.7.12"
  }
 },
 "nbformat": 4,
 "nbformat_minor": 1
}
