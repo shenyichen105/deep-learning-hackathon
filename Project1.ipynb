{
 "cells": [
  {
   "cell_type": "markdown",
   "metadata": {},
   "source": [
    "## GAN (Generative Adversarial Networks)\n",
    "\n",
    "### Introduction\n",
    "\n",
    "By its name, GAN is a type of generative deeping learning model. It is an intereting idea brought by by a group of researchers at the University of Montreal lead by Ian Goodfellow in 2014. The basic idea is that in this framework,there are two deep neural networks model: one is playing \"generator\" role by generating iminated samples from some distribution of data we are interested in (e.g. images). One is playing \"discriminator\" role by distinguishing real data samples and \"fake\" ones coming from the generator. On the other hand, generator are trained to \"fool\" the discriminator. Two networks compete with each other and Eventually, the generator is able to generate samples that are indistinguishable from \"real\" data.\n",
    "\n",
    "So far GANs have been primarily applied to modelling natural images. It has reached considerable success in mimicking images from CIFAR-10 database and ImageNet. It also did incredibly well in sharpening lossy images (Goodfellow, 2016).\n",
    "\n",
    "\n",
    "<img src=\"https://blog.openai.com/content/images/2017/02/gen_models_img_5.jpg\" alt=\"Drawing\" style=\"width: 300px;\"/>\n",
    "<center><b>Figure 1</b>. Generated images from CIFAR-10 Data base</center>\n",
    "\n",
    "In general, generative models like GAN have the potential to understand and explain the underlying structure of the input data even when there are no labels. This is very desirable when working on data modelling problems in the real world, as unlabelled data is of course abundant, but getting labelled data is often expensive at best and impractical at worst. \n",
    "### Generative Model vs. Discriminative Model\n",
    "\n",
    "The main difference in two types of model is that generative model estimates the underlying joint distribution of the data and labels $P(x, y)$, while the dicriminative model only models the posterior distribution $P(y|x)$. Generative models are generative in the sense that it can generate samples after the models learned sufficient information about underlying distribution. \n",
    "\n",
    "Explicit generative model either directly estimate the density function of the data using factorization (Naive Bayes, Gaussain Mixture Model) or EM methods or do some sort of approximation (variational models or MCMC). However, the distribution of high-dimensional data like images are extremely complicated and explicit estimation becomes very hard. GAN is an implicit generative model which is capable of learning internal essense of the data distribution without giving out explicit forms through its special design.\n",
    "\n",
    "As mentioned above, generative models can extract insights from large unlabelled data set via semi-supervised learning. In addition, learning high-dimensional distribution is important in a wide variety of applied math and engineering domains. Also, generative models can be naturally incorporated in reinforcement learning in many different ways. (Goodfellow, 2016)\n",
    "\n",
    "###  Main Framework and Loss Function\n",
    "\n",
    "The main framework of GAN consists of two main components, a generator and a discriminator. Each component plays as adversary to the other in a \"game\". The main set-up can be shown in the diagram below:\n",
    "\n",
    "<img src = \"http://blog.aylien.com/wp-content/uploads/2016/08/gan.png\"  alt=\"Drawing\" style=\"width: 500px;\"/>\n",
    "<center><b>Figure 2</b>. Architecture of GAN. Source: https://ishmaelbelghazi.github.io/ALI</center>\n",
    "\n",
    "Each of the component is implemented in deep neural networks. A generator takes \"input noise\" as some random vector and output an sample from the distribution we are interested in. An popular architecture of nowaday GAN that genereting images is a variation of DCGAN (Radford et al., 2015), which consists of several transposed convolution layers to \"upsample\" an input low dimension noise to a full-sized image.\n",
    "\n",
    "\n",
    "<img src = http://lijiancheng0614.github.io/2016/12/07/2016_12_07_DCGAN/fig1.png  alt=\"Drawing\" style=\"width:500px;\"/>\n",
    "<center><b>Figure 3</b>. Architecture of DCGAN Generator. Source: Radford et al., 2015) </center>\n",
    "\n",
    "The disciminator network also consists of multiple convolution layers as binary classifier. In DCGAN Architecture, discriminator also has an all-convolution set-up similar to its generator. Batch normalization is used for all layers in generator and discriminator except the output layer in generator and the input layer in discriminator.\n",
    "\n",
    "As for loss function, the loss for discriminator is a standard binary entropy. The loss for generator is more tricky. it can be simply the negative version of discriminator's loss, or \"minimax\" as called by GoodFellow. In this way, the dicriminator and generator are playing a zero-sum game. In practice, \"minimax\" cost for generator doesn't perform as well. GoodFellow (2016) used a more heuristic version of loss for generator that maximizes the probability that discriminator \"was fooled\". \n",
    "\n",
    "Alternatively GoodFellow (2016) also introduced a maximum likelihood version of loss, which would mean minimizing the KL divergence between the real data and the learned model. However, this version of loss gives high variance in practice.\n",
    "\n",
    "\n",
    "### Mode Collapse and Other Challenges\n",
    "\n",
    "GAN is still novel and faces many challenges in practice. One major challenge is \"mode collapse\". This refers to a phenomenon of collapsing of large volumes of probability mass onto a few modes: the generator learned to map the input only to a few classes of samples that can most easily fool the discriminator rather than learning a full spectrum of the distribution. Many efforts have tried to solve this problem including \"Minibatch features\" and unrolled GANs (Metz et al., 2016).\n",
    "\n",
    "Besides, GAN has trouble to learn the optimal structure to integrate parts in an image. Sometimes GAN will generate wrong counts of head/eyes for an animal object. Also, it struggles to learn the idea of three-dimensional perspective.\n",
    "\n",
    "### References\n",
    "\n",
    "Goodfellow, Ian. \"NIPS 2016 Tutorial: Generative Adversarial Networks.\" arXiv preprint arXiv:1701.00160 (2016).  \n",
    "\n",
    "Goodfellow, Ian, et al. \"Generative adversarial nets.\" Advances in neural information processing systems. 2014. \n",
    "\n",
    "Metz, Luke, et al. \"Unrolled Generative Adversarial Networks.\" arXiv preprint arXiv:1611.02163 (2016).\n",
    "\n",
    "Radford, Alec, Luke Metz, and Soumith Chintala. \"Unsupervised representation learning with deep convolutional generative adversarial networks.\" arXiv preprint arXiv:1511.06434 (2015).  \n",
    "\n",
    "http://blog.aylien.com/introduction-generative-adversarial-networks-code-tensorflow/\n",
    "\n",
    "### Simple use cases\n",
    "\n",
    "Using Keras to build a simple GAN to generate handwritten digits"
   ]
  },
  {
   "cell_type": "code",
   "execution_count": 157,
   "metadata": {
    "collapsed": true
   },
   "outputs": [],
   "source": [
    "import numpy as np\n",
    "from sklearn.utils import shuffle\n",
    "import matplotlib.pyplot as plt\n",
    "%matplotlib inline"
   ]
  },
  {
   "cell_type": "code",
   "execution_count": 158,
   "metadata": {
    "collapsed": false
   },
   "outputs": [],
   "source": [
    "from keras.layers import Input, Dense, Conv2D, MaxPooling2D, Reshape,Conv2DTranspose, UpSampling2D\n",
    "from keras.models import Model\n",
    "from keras.callbacks import History"
   ]
  },
  {
   "cell_type": "code",
   "execution_count": 159,
   "metadata": {
    "collapsed": false
   },
   "outputs": [],
   "source": [
    "from keras.layers.core import Activation, Flatten\n",
    "from keras.layers.normalization import BatchNormalization\n",
    "from keras.layers.advanced_activations import LeakyReLU\n",
    "from keras.optimizers import SGD, Adam\n",
    "from keras.initializers import RandomNormal\n",
    "from keras.constraints import maxnorm\n",
    "from keras.datasets import mnist"
   ]
  },
  {
   "cell_type": "code",
   "execution_count": 160,
   "metadata": {
    "collapsed": false
   },
   "outputs": [],
   "source": [
    "(X_train, Y_train), (X_test, Y_test) = mnist.load_data()\n",
    "X_train = np.concatenate([X_train, X_test], axis = 0)\n",
    "#normalize\n",
    "X_train = (X_train- 127.5)/127.5\n",
    "#build random input for generator (uniform -1 to 1) same size as X_train\n",
    "train_size = X_train.shape[0]\n",
    "X_noise = np.random.uniform(-1,1,(train_size, 100))\n",
    "\n",
    "adam=Adam(lr=0.0002, beta_1=0.5 )\n",
    "init = RandomNormal(mean=0.0, stddev=0.02)"
   ]
  },
  {
   "cell_type": "code",
   "execution_count": 161,
   "metadata": {
    "collapsed": false
   },
   "outputs": [],
   "source": [
    "#build generator network\n",
    "input_noise = Input(shape=(100,))\n",
    "x = Dense(7*7*128, input_shape = (100,),kernel_initializer = init)(input_noise)\n",
    "x = Activation(LeakyReLU(0.2))(x)\n",
    "x = Reshape((7,7,128))(x)\n",
    "x = Conv2DTranspose(64, (5,5), strides = (2,2), padding = \"same\")(x)\n",
    "x = Activation(LeakyReLU(0.2))(x)\n",
    "y = Conv2DTranspose(1, (5,5), strides = (2,2), activation='tanh', padding = \"same\")(x)"
   ]
  },
  {
   "cell_type": "code",
   "execution_count": 162,
   "metadata": {
    "collapsed": false
   },
   "outputs": [],
   "source": [
    "Generator = Model(input_noise, y)\n",
    "Generator.compile(optimizer=adam,loss='binary_crossentropy',metrics=['accuracy'])"
   ]
  },
  {
   "cell_type": "code",
   "execution_count": 163,
   "metadata": {
    "collapsed": false
   },
   "outputs": [],
   "source": [
    "#build discriminator network\n",
    "input_gen = Input(shape=(28,28,1))\n",
    "x = Conv2D(64, (5, 5), padding='same', strides = (2,2), kernel_initializer = init)(input_gen)\n",
    "x = Activation(LeakyReLU(0.2))(x)\n",
    "x = Conv2D(128, (5, 5), padding='same', strides = (2,2))(x)\n",
    "x = Activation(LeakyReLU(0.2))(x)\n",
    "x = Flatten()(x)\n",
    "result = Dense(1, activation = \"sigmoid\")(x)"
   ]
  },
  {
   "cell_type": "code",
   "execution_count": 164,
   "metadata": {
    "collapsed": false
   },
   "outputs": [],
   "source": [
    "discriminator = Model(input_gen, result)\n",
    "discriminator.compile(loss='binary_crossentropy', optimizer=adam, metrics=['accuracy'])"
   ]
  },
  {
   "cell_type": "code",
   "execution_count": 165,
   "metadata": {
    "collapsed": false
   },
   "outputs": [],
   "source": [
    "#build the \"generator on discriminator\" graph, with no-update on discriminator \n",
    "discriminator.trainable = False\n",
    "\n",
    "gen = Generator(input_noise)\n",
    "output = discriminator(gen)\n",
    "dcgan = Model(inputs=input_noise, outputs=output)\n",
    "dcgan.compile(loss='binary_crossentropy', optimizer=adam, metrics=['accuracy'])\n",
    "\n",
    "discriminator.trainable = True"
   ]
  },
  {
   "cell_type": "code",
   "execution_count": 166,
   "metadata": {
    "collapsed": true
   },
   "outputs": [],
   "source": [
    "#set-up training batch-size and epoches\n",
    "nepoch = 50\n",
    "batch_size = 128\n",
    "numBatches = int(train_size/float(batch_size))\n",
    "dLoss = []\n",
    "gLoss = []"
   ]
  },
  {
   "cell_type": "code",
   "execution_count": 167,
   "metadata": {
    "collapsed": false
   },
   "outputs": [],
   "source": [
    "from sklearn.model_selection import KFold\n",
    "kf = KFold(n_splits=numBatches, shuffle = True)"
   ]
  },
  {
   "cell_type": "code",
   "execution_count": 222,
   "metadata": {
    "collapsed": true
   },
   "outputs": [],
   "source": [
    "#epoch = 3"
   ]
  },
  {
   "cell_type": "code",
   "execution_count": null,
   "metadata": {
    "collapsed": false
   },
   "outputs": [],
   "source": [
    "#load the trained model\n",
    "dcgan.load_weights('my_model_weights.h5')\n",
    "Generator.load_weights('generator_weights.h5')\n",
    "discriminator.load_weights('discriminator_weights.h5')\n",
    "#train the data in batches\n",
    "\n",
    "for i in range(nepoch):\n",
    "    batch = 0\n",
    "    kf = KFold(n_splits=numBatches, shuffle = True)\n",
    "    for _, batch_index in kf.split(X_train): \n",
    "        #due to the mechanism of sklearn doing kfolds, the first couple batches might have batch_size+1 samples\n",
    "        cur_batch_size = len(batch_index)\n",
    "        \n",
    "        X_noise_batch = X_noise[batch_index]\n",
    "        noiseDataBatch = Generator.predict(X_noise_batch)\n",
    "        X_train_batch = X_train[batch_index].reshape(-1,28,28,1)\n",
    "        \n",
    "        dis_train = np.concatenate([noiseDataBatch, X_train_batch], axis = 0)\n",
    "        dis_label = np.concatenate([np.zeros(cur_batch_size).astype(int),np.ones(cur_batch_size).astype(int)], axis = 0)\n",
    "        #now train discriminator\n",
    "        dis_train, dis_label = shuffle(dis_train, dis_label)\n",
    "        dis_Loss = discriminator.train_on_batch(dis_train, dis_label)\n",
    "        \n",
    "        #now train generator\n",
    "        gan_label = np.ones(cur_batch_size).astype(int)\n",
    "        \n",
    "        discriminator.trainable = False\n",
    "        gan_Loss = dcgan.train_on_batch(X_noise_batch, gan_label)\n",
    "        discriminator.trainable = True\n",
    "        \n",
    "        \n",
    "        \n",
    "        if batch%100 == 0:\n",
    "            print 'epoch: ', epoch, 'batch: ',batch\n",
    "            print dis_Loss, gan_Loss       \n",
    "        batch += 1\n",
    "    epoch += 1\n",
    "    #input_r = np.random.rand(100).reshape(1,100)\n",
    "    #gen_image = noiseDataBatch[10]*127.5+127.5\n",
    "    #plt.imshow(gen_image.reshape(28, 28))\n",
    "    #plt.gray()\n",
    "    #plt.show()\n",
    "     \n",
    "    dLoss.append(dis_Loss)\n",
    "    gLoss.append(gan_Loss)"
   ]
  },
  {
   "cell_type": "code",
   "execution_count": 227,
   "metadata": {
    "collapsed": false
   },
   "outputs": [],
   "source": [
    "#save all the weights for futures uses\n",
    "dcgan.save_weights('dcgan_weights.h5')\n",
    "Generator.save_weights('generator_weights.h5')\n",
    "discriminator.save_weights('discriminator_weights.h5')"
   ]
  },
  {
   "cell_type": "code",
   "execution_count": 237,
   "metadata": {
    "collapsed": false
   },
   "outputs": [
    {
     "data": {
      "image/png": "[encoded data removed]",
      "text/plain": [
       "<matplotlib.figure.Figure at 0x13da03390>"
      ]
     },
     "metadata": {},
     "output_type": "display_data"
    }
   ],
   "source": [
    "#randomly plot 25 generated digits after 50 epochs. The quality is not super but good enough to be recognized \n",
    "for i in range(25):\n",
    "    input_r = np.random.uniform(-1,1,(1,100))\n",
    "    gen_img = Generator.predict(input_r)*127.5 + 127.5\n",
    "    ax = plt.subplot(5,5,i+1)\n",
    "    plt.imshow(gen_img.reshape(28, 28))\n",
    "    plt.gray()\n",
    "    ax.get_xaxis().set_visible(False)\n",
    "    ax.get_yaxis().set_visible(False)\n",
    "plt.show()"
   ]
  },
  {
   "cell_type": "code",
   "execution_count": null,
   "metadata": {
    "collapsed": true
   },
   "outputs": [],
   "source": []
  }
 ],
 "metadata": {
  "anaconda-cloud": {},
  "kernelspec": {
   "display_name": "Python 2",
   "language": "python",
   "name": "python2"
  },
  "language_info": {
   "codemirror_mode": {
    "name": "ipython",
    "version": 2
   },
   "file_extension": ".py",
   "mimetype": "text/x-python",
   "name": "python",
   "nbconvert_exporter": "python",
   "pygments_lexer": "ipython2",
   "version": "2.7.12"
  }
 },
 "nbformat": 4,
 "nbformat_minor": 0
}
